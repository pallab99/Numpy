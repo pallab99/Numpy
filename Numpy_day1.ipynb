{
  "cells": [
    {
      "cell_type": "markdown",
      "metadata": {
        "id": "view-in-github",
        "colab_type": "text"
      },
      "source": [
        "<a href=\"https://colab.research.google.com/github/pallab99/Numpy/blob/main/Numpy_day1.ipynb\" target=\"_parent\"><img src=\"https://colab.research.google.com/assets/colab-badge.svg\" alt=\"Open In Colab\"/></a>"
      ]
    },
    {
      "cell_type": "markdown",
      "source": [
        "**The Basics**"
      ],
      "metadata": {
        "id": "bBS81mJq9D_f"
      }
    },
    {
      "cell_type": "code",
      "source": [
        "import numpy as np\n",
        "#1d array\n",
        "a=np.array([1,2,3,4])\n",
        "print(a)"
      ],
      "metadata": {
        "colab": {
          "base_uri": "https://localhost:8080/"
        },
        "id": "-dihLTYD1_JO",
        "outputId": "5c029f84-ea6b-4e13-9b17-8a11770ec5ab"
      },
      "execution_count": 2,
      "outputs": [
        {
          "output_type": "stream",
          "name": "stdout",
          "text": [
            "[1 2 3 4]\n"
          ]
        }
      ]
    },
    {
      "cell_type": "code",
      "source": [
        "# 2d array\n",
        "b=np.array([[1,2,3,4],[5,6,7,8]])\n",
        "print(b)"
      ],
      "metadata": {
        "colab": {
          "base_uri": "https://localhost:8080/"
        },
        "id": "-XSlsxZI5HVS",
        "outputId": "fd984f66-2aeb-4735-8e94-d3e7b1a763e7"
      },
      "execution_count": null,
      "outputs": [
        {
          "output_type": "stream",
          "name": "stdout",
          "text": [
            "[[1 2 3 4]\n",
            " [5 6 7 8]]\n"
          ]
        }
      ]
    },
    {
      "cell_type": "code",
      "source": [
        "#Get dimension\n",
        "a.ndim\n",
        "#b.ndim"
      ],
      "metadata": {
        "colab": {
          "base_uri": "https://localhost:8080/"
        },
        "id": "gXSmkSgT5QC4",
        "outputId": "844c0189-02f2-4a87-e8bc-d728a6ec8d60"
      },
      "execution_count": null,
      "outputs": [
        {
          "output_type": "execute_result",
          "data": {
            "text/plain": [
              "1"
            ]
          },
          "metadata": {},
          "execution_count": 7
        }
      ]
    },
    {
      "cell_type": "code",
      "source": [
        "#get Shape\n",
        "b.shape"
      ],
      "metadata": {
        "colab": {
          "base_uri": "https://localhost:8080/"
        },
        "id": "T5nvLm6e7gTT",
        "outputId": "11fca767-4f7b-4cba-a7ad-babea3fa03e5"
      },
      "execution_count": null,
      "outputs": [
        {
          "output_type": "execute_result",
          "data": {
            "text/plain": [
              "(2, 4)"
            ]
          },
          "metadata": {},
          "execution_count": 9
        }
      ]
    },
    {
      "cell_type": "code",
      "source": [
        "#get type\n",
        "b.dtype\n"
      ],
      "metadata": {
        "id": "QZtcAMst76oS",
        "outputId": "5fae5c13-7e79-40f9-daed-9e4b14a7ba79",
        "colab": {
          "base_uri": "https://localhost:8080/"
        }
      },
      "execution_count": null,
      "outputs": [
        {
          "output_type": "execute_result",
          "data": {
            "text/plain": [
              "dtype('int64')"
            ]
          },
          "metadata": {},
          "execution_count": 11
        }
      ]
    },
    {
      "cell_type": "code",
      "source": [
        "#get size\n",
        "a.itemsize\n",
        "b.size"
      ],
      "metadata": {
        "id": "vCTV4OjE8dDQ",
        "outputId": "9b17b108-9460-42d2-8899-0d3346d69606",
        "colab": {
          "base_uri": "https://localhost:8080/"
        }
      },
      "execution_count": null,
      "outputs": [
        {
          "output_type": "execute_result",
          "data": {
            "text/plain": [
              "8"
            ]
          },
          "metadata": {},
          "execution_count": 14
        }
      ]
    },
    {
      "cell_type": "markdown",
      "source": [
        "**Accessing / Changing specific elements , rows , columns , etc**\n"
      ],
      "metadata": {
        "id": "BbbTloBy9o6o"
      }
    },
    {
      "cell_type": "code",
      "source": [
        "aa=np.array([[1,2,3,4,5,6,7],[8,9,10,11,12,13,14]])\n",
        "print(aa)"
      ],
      "metadata": {
        "id": "E9lNOBzu9rli",
        "outputId": "01323907-f194-4eac-fb60-c7571c046d74",
        "colab": {
          "base_uri": "https://localhost:8080/"
        }
      },
      "execution_count": 3,
      "outputs": [
        {
          "output_type": "stream",
          "name": "stdout",
          "text": [
            "[[ 1  2  3  4  5  6  7]\n",
            " [ 8  9 10 11 12 13 14]]\n"
          ]
        }
      ]
    },
    {
      "cell_type": "code",
      "source": [
        "#get a specefic element [r,c]\n",
        "aa[1,4]"
      ],
      "metadata": {
        "id": "LQjDfNWy-Loa",
        "outputId": "d6baf8ef-1722-46a3-c43c-569c408abf59",
        "colab": {
          "base_uri": "https://localhost:8080/"
        }
      },
      "execution_count": 4,
      "outputs": [
        {
          "output_type": "execute_result",
          "data": {
            "text/plain": [
              "12"
            ]
          },
          "metadata": {},
          "execution_count": 4
        }
      ]
    },
    {
      "cell_type": "code",
      "source": [
        "#get a specefic row or col\n",
        "#aa[0,:]\n",
        "#aa[1,:]\n",
        "aa[:,0]"
      ],
      "metadata": {
        "id": "XnaZwey3-i_R",
        "outputId": "b5fb5d1b-80f5-4cea-ffaa-58b8eb409416",
        "colab": {
          "base_uri": "https://localhost:8080/"
        }
      },
      "execution_count": 5,
      "outputs": [
        {
          "output_type": "execute_result",
          "data": {
            "text/plain": [
              "array([1, 8])"
            ]
          },
          "metadata": {},
          "execution_count": 5
        }
      ]
    },
    {
      "cell_type": "code",
      "source": [
        "#little more fancy [row,start_index:end_index:stepsize]\n",
        "aa[1,1:6:1]"
      ],
      "metadata": {
        "id": "Sy5qG7cX_T-Z",
        "outputId": "cc164898-6d6b-4065-e66a-cc85b71ded55",
        "colab": {
          "base_uri": "https://localhost:8080/"
        }
      },
      "execution_count": 6,
      "outputs": [
        {
          "output_type": "execute_result",
          "data": {
            "text/plain": [
              "array([ 9, 10, 11, 12, 13])"
            ]
          },
          "metadata": {},
          "execution_count": 6
        }
      ]
    }
  ],
  "metadata": {
    "colab": {
      "collapsed_sections": [],
      "name": "Numpy",
      "provenance": [],
      "include_colab_link": true
    },
    "kernelspec": {
      "display_name": "Python 3",
      "name": "python3"
    }
  },
  "nbformat": 4,
  "nbformat_minor": 0
}