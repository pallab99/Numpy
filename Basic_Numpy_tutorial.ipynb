{
  "cells": [
    {
      "cell_type": "markdown",
      "metadata": {
        "id": "view-in-github",
        "colab_type": "text"
      },
      "source": [
        "<a href=\"https://colab.research.google.com/github/pallab99/Numpy/blob/main/Basic_Numpy_tutorial.ipynb\" target=\"_parent\"><img src=\"https://colab.research.google.com/assets/colab-badge.svg\" alt=\"Open In Colab\"/></a>"
      ]
    },
    {
      "cell_type": "markdown",
      "source": [
        "# The Basics"
      ],
      "metadata": {
        "id": "bBS81mJq9D_f"
      }
    },
    {
      "cell_type": "code",
      "source": [
        "import numpy as np\n",
        "#1d array\n",
        "a=np.array([1.2,2.2,3.2,4.2])\n",
        "print(a)"
      ],
      "metadata": {
        "colab": {
          "base_uri": "https://localhost:8080/"
        },
        "id": "-dihLTYD1_JO",
        "outputId": "73078d65-b913-4b2c-a34b-06bd97492e7d"
      },
      "execution_count": 2,
      "outputs": [
        {
          "output_type": "stream",
          "name": "stdout",
          "text": [
            "[1.2 2.2 3.2 4.2]\n"
          ]
        }
      ]
    },
    {
      "cell_type": "code",
      "source": [
        "# 2d array\n",
        "b=np.array([[1,2,3],[5,6,7]])\n",
        "print(b)"
      ],
      "metadata": {
        "colab": {
          "base_uri": "https://localhost:8080/"
        },
        "id": "-XSlsxZI5HVS",
        "outputId": "6e97e20d-96c5-4f2a-fbad-914e3edf6b68"
      },
      "execution_count": 3,
      "outputs": [
        {
          "output_type": "stream",
          "name": "stdout",
          "text": [
            "[[1 2 3]\n",
            " [5 6 7]]\n"
          ]
        }
      ]
    },
    {
      "cell_type": "code",
      "source": [
        "#Get dimension\n",
        "a.ndim\n",
        "#b.ndim"
      ],
      "metadata": {
        "colab": {
          "base_uri": "https://localhost:8080/"
        },
        "id": "gXSmkSgT5QC4",
        "outputId": "7f21aa9b-9635-4354-d11b-129fb29badac"
      },
      "execution_count": 4,
      "outputs": [
        {
          "output_type": "execute_result",
          "data": {
            "text/plain": [
              "1"
            ]
          },
          "metadata": {},
          "execution_count": 4
        }
      ]
    },
    {
      "cell_type": "code",
      "source": [
        "#get Shape\n",
        "b.shape"
      ],
      "metadata": {
        "colab": {
          "base_uri": "https://localhost:8080/"
        },
        "id": "T5nvLm6e7gTT",
        "outputId": "2fcd2670-2173-42e5-82db-1b9098a878d6"
      },
      "execution_count": 5,
      "outputs": [
        {
          "output_type": "execute_result",
          "data": {
            "text/plain": [
              "(2, 3)"
            ]
          },
          "metadata": {},
          "execution_count": 5
        }
      ]
    },
    {
      "cell_type": "code",
      "source": [
        "#get type\n",
        "b.dtype\n"
      ],
      "metadata": {
        "id": "QZtcAMst76oS",
        "outputId": "d9449004-6347-4b23-e7fa-d9cf8834debf",
        "colab": {
          "base_uri": "https://localhost:8080/"
        }
      },
      "execution_count": 6,
      "outputs": [
        {
          "output_type": "execute_result",
          "data": {
            "text/plain": [
              "dtype('int64')"
            ]
          },
          "metadata": {},
          "execution_count": 6
        }
      ]
    },
    {
      "cell_type": "code",
      "source": [
        "#get size\n",
        "a.itemsize\n",
        "#b.size"
      ],
      "metadata": {
        "id": "vCTV4OjE8dDQ",
        "outputId": "f8b5ac9d-49b3-426a-f01f-9a7936002c35",
        "colab": {
          "base_uri": "https://localhost:8080/"
        }
      },
      "execution_count": 7,
      "outputs": [
        {
          "output_type": "execute_result",
          "data": {
            "text/plain": [
              "8"
            ]
          },
          "metadata": {},
          "execution_count": 7
        }
      ]
    },
    {
      "cell_type": "markdown",
      "source": [
        "# Accessing / Changing specific elements , rows , columns , etc"
      ],
      "metadata": {
        "id": "BbbTloBy9o6o"
      }
    },
    {
      "cell_type": "code",
      "source": [
        "aa=np.array([[1,2,3,4,5,6,7],[8,9,10,11,12,13,14]])\n",
        "print(aa)"
      ],
      "metadata": {
        "id": "E9lNOBzu9rli",
        "outputId": "bc357229-4e75-4f53-a9ba-7cafdba1c1ee",
        "colab": {
          "base_uri": "https://localhost:8080/"
        }
      },
      "execution_count": 8,
      "outputs": [
        {
          "output_type": "stream",
          "name": "stdout",
          "text": [
            "[[ 1  2  3  4  5  6  7]\n",
            " [ 8  9 10 11 12 13 14]]\n"
          ]
        }
      ]
    },
    {
      "cell_type": "code",
      "source": [
        "#get a specefic element [r,c]\n",
        "aa[1,4]"
      ],
      "metadata": {
        "id": "LQjDfNWy-Loa",
        "outputId": "7f86c18a-2902-479d-a598-6530a6a121ff",
        "colab": {
          "base_uri": "https://localhost:8080/"
        }
      },
      "execution_count": 9,
      "outputs": [
        {
          "output_type": "execute_result",
          "data": {
            "text/plain": [
              "12"
            ]
          },
          "metadata": {},
          "execution_count": 9
        }
      ]
    },
    {
      "cell_type": "code",
      "source": [
        "#get a specefic row or col\n",
        "#aa[0,:]\n",
        "#aa[1,:]\n",
        "aa[:,0]"
      ],
      "metadata": {
        "id": "XnaZwey3-i_R",
        "outputId": "779a90e9-4209-49e8-b497-81b0219eb128",
        "colab": {
          "base_uri": "https://localhost:8080/"
        }
      },
      "execution_count": 10,
      "outputs": [
        {
          "output_type": "execute_result",
          "data": {
            "text/plain": [
              "array([1, 8])"
            ]
          },
          "metadata": {},
          "execution_count": 10
        }
      ]
    },
    {
      "cell_type": "code",
      "source": [
        "#little more fancy [row,start_index:end_index:stepsize]\n",
        "aa[1,1:6:1]"
      ],
      "metadata": {
        "id": "Sy5qG7cX_T-Z",
        "outputId": "7bc91f23-307e-4efe-f720-bd025898d4f5",
        "colab": {
          "base_uri": "https://localhost:8080/"
        }
      },
      "execution_count": 11,
      "outputs": [
        {
          "output_type": "execute_result",
          "data": {
            "text/plain": [
              "array([ 9, 10, 11, 12, 13])"
            ]
          },
          "metadata": {},
          "execution_count": 11
        }
      ]
    },
    {
      "cell_type": "code",
      "source": [
        "#Change element\n",
        "aa[1,5]=30\n",
        "#print(aa)\n",
        "#change col value\n",
        "aa[:,3]=69\n",
        "#print(aa)\n",
        "#change row value\n",
        "aa[1,:]=69\n",
        "#print(aa)\n",
        "\n",
        "aa[:,3]=[1,2]\n",
        "print(aa)"
      ],
      "metadata": {
        "id": "Wfp1R50MHHG_",
        "colab": {
          "base_uri": "https://localhost:8080/"
        },
        "outputId": "7c482fd8-d26a-4150-8f3c-265429e5218a"
      },
      "execution_count": 12,
      "outputs": [
        {
          "output_type": "stream",
          "name": "stdout",
          "text": [
            "[[ 1  2  3  1  5  6  7]\n",
            " [69 69 69  2 69 69 69]]\n"
          ]
        }
      ]
    },
    {
      "cell_type": "markdown",
      "source": [
        "# 3D array example"
      ],
      "metadata": {
        "id": "ZIeb0NQIIY6Q"
      }
    },
    {
      "cell_type": "code",
      "source": [
        "bb=np.array([[[1,2],[3,4]],[[5,6],[7,8]]])\n",
        "print(bb)"
      ],
      "metadata": {
        "colab": {
          "base_uri": "https://localhost:8080/"
        },
        "id": "NjCBNb7FIdAk",
        "outputId": "307de0ed-72b6-479d-93c2-8d3bbd9989bd"
      },
      "execution_count": 13,
      "outputs": [
        {
          "output_type": "stream",
          "name": "stdout",
          "text": [
            "[[[1 2]\n",
            "  [3 4]]\n",
            "\n",
            " [[5 6]\n",
            "  [7 8]]]\n"
          ]
        }
      ]
    },
    {
      "cell_type": "code",
      "source": [
        "#get specefic element\n",
        "\n",
        "#bb[1,1,1]\n",
        "\n",
        "bb[:,1,:]=[[1,1],[2,2]]\n",
        "print(bb)"
      ],
      "metadata": {
        "colab": {
          "base_uri": "https://localhost:8080/"
        },
        "id": "Azi7dg_mJFSR",
        "outputId": "ba5d8958-569a-4398-cd7f-c4519af79991"
      },
      "execution_count": 14,
      "outputs": [
        {
          "output_type": "stream",
          "name": "stdout",
          "text": [
            "[[[1 2]\n",
            "  [1 1]]\n",
            "\n",
            " [[5 6]\n",
            "  [2 2]]]\n"
          ]
        }
      ]
    },
    {
      "cell_type": "markdown",
      "source": [
        "# Initializing Different Types of Arrays"
      ],
      "metadata": {
        "id": "qg9SbLamOVYX"
      }
    },
    {
      "cell_type": "code",
      "source": [
        "#All 0's matrix\n",
        "np.zeros(5)\n",
        "\n",
        "np.zeros((2,3))"
      ],
      "metadata": {
        "colab": {
          "base_uri": "https://localhost:8080/"
        },
        "id": "uScune7xOXzk",
        "outputId": "a83d09c4-267d-4d85-c92b-ff67b1f22778"
      },
      "execution_count": 15,
      "outputs": [
        {
          "output_type": "execute_result",
          "data": {
            "text/plain": [
              "array([[0., 0., 0.],\n",
              "       [0., 0., 0.]])"
            ]
          },
          "metadata": {},
          "execution_count": 15
        }
      ]
    },
    {
      "cell_type": "code",
      "source": [
        "#All 1's matrix\n",
        "np.ones(5)\n",
        "\n",
        "np.ones((2,3))"
      ],
      "metadata": {
        "colab": {
          "base_uri": "https://localhost:8080/"
        },
        "id": "TkZ7tfCQPtPd",
        "outputId": "96cb036f-e3a4-4f27-e325-085985b25f6d"
      },
      "execution_count": 16,
      "outputs": [
        {
          "output_type": "execute_result",
          "data": {
            "text/plain": [
              "array([[1., 1., 1.],\n",
              "       [1., 1., 1.]])"
            ]
          },
          "metadata": {},
          "execution_count": 16
        }
      ]
    },
    {
      "cell_type": "code",
      "source": [
        "#Any other number\n",
        "np.full((2),69)\n",
        "\n",
        "#Any other number((Shape),num)\n",
        "np.full((4,3,4),69)"
      ],
      "metadata": {
        "colab": {
          "base_uri": "https://localhost:8080/"
        },
        "id": "789yiLqXQMl_",
        "outputId": "67c5aabe-40e6-444f-cf05-76cfd5390bb8"
      },
      "execution_count": 17,
      "outputs": [
        {
          "output_type": "execute_result",
          "data": {
            "text/plain": [
              "array([[[69, 69, 69, 69],\n",
              "        [69, 69, 69, 69],\n",
              "        [69, 69, 69, 69]],\n",
              "\n",
              "       [[69, 69, 69, 69],\n",
              "        [69, 69, 69, 69],\n",
              "        [69, 69, 69, 69]],\n",
              "\n",
              "       [[69, 69, 69, 69],\n",
              "        [69, 69, 69, 69],\n",
              "        [69, 69, 69, 69]],\n",
              "\n",
              "       [[69, 69, 69, 69],\n",
              "        [69, 69, 69, 69],\n",
              "        [69, 69, 69, 69]]])"
            ]
          },
          "metadata": {},
          "execution_count": 17
        }
      ]
    },
    {
      "cell_type": "code",
      "source": [
        "#Any other number full_like\n",
        "np.full_like(aa,69)"
      ],
      "metadata": {
        "colab": {
          "base_uri": "https://localhost:8080/"
        },
        "id": "CiBaLLJYR9Z1",
        "outputId": "6b3543a6-5356-475a-b832-6a971b9851f6"
      },
      "execution_count": 18,
      "outputs": [
        {
          "output_type": "execute_result",
          "data": {
            "text/plain": [
              "array([[69, 69, 69, 69, 69, 69, 69],\n",
              "       [69, 69, 69, 69, 69, 69, 69]])"
            ]
          },
          "metadata": {},
          "execution_count": 18
        }
      ]
    },
    {
      "cell_type": "code",
      "source": [
        "#Array of random decimal numbers(shape)\n",
        "np.random.rand(4,4,3)"
      ],
      "metadata": {
        "colab": {
          "base_uri": "https://localhost:8080/"
        },
        "id": "5YUCXqu5SWi9",
        "outputId": "58a881eb-7e99-4e22-f3d0-5a1d7d93f4d1"
      },
      "execution_count": 19,
      "outputs": [
        {
          "output_type": "execute_result",
          "data": {
            "text/plain": [
              "array([[[0.17306787, 0.47131315, 0.46982241],\n",
              "        [0.99266167, 0.73191606, 0.22866572],\n",
              "        [0.43946555, 0.90786794, 0.09223212],\n",
              "        [0.69140399, 0.95997726, 0.4146534 ]],\n",
              "\n",
              "       [[0.20908407, 0.27185214, 0.8871098 ],\n",
              "        [0.67525665, 0.08431432, 0.95355131],\n",
              "        [0.44188102, 0.12559588, 0.9978957 ],\n",
              "        [0.67472137, 0.36470552, 0.37758641]],\n",
              "\n",
              "       [[0.46380374, 0.2111647 , 0.94155   ],\n",
              "        [0.33759492, 0.52978317, 0.39540609],\n",
              "        [0.46142311, 0.7064079 , 0.54611469],\n",
              "        [0.03326624, 0.42119241, 0.84485691]],\n",
              "\n",
              "       [[0.84114584, 0.67700854, 0.63488985],\n",
              "        [0.10690055, 0.25334421, 0.0557034 ],\n",
              "        [0.43787709, 0.17471962, 0.8494418 ],\n",
              "        [0.48738325, 0.77301565, 0.0475713 ]]])"
            ]
          },
          "metadata": {},
          "execution_count": 19
        }
      ]
    },
    {
      "cell_type": "code",
      "source": [
        "#Array of random integer numbers(range,size=(2,3,2))\n",
        "np.random.randint(-4,8,size=(3,3))"
      ],
      "metadata": {
        "colab": {
          "base_uri": "https://localhost:8080/"
        },
        "id": "89MEpfY9S788",
        "outputId": "370d81f0-389c-4196-8be7-87c8d4f87c61"
      },
      "execution_count": 20,
      "outputs": [
        {
          "output_type": "execute_result",
          "data": {
            "text/plain": [
              "array([[-2,  4,  0],\n",
              "       [ 0, -4,  5],\n",
              "       [-3,  5, -2]])"
            ]
          },
          "metadata": {},
          "execution_count": 20
        }
      ]
    },
    {
      "cell_type": "code",
      "source": [
        "#Identity Matrix\n",
        "np.identity(4)"
      ],
      "metadata": {
        "colab": {
          "base_uri": "https://localhost:8080/"
        },
        "id": "_w9w7hm5Vi7s",
        "outputId": "7c9c340e-b8f3-43ca-8dc7-4e15ebb7c183"
      },
      "execution_count": 21,
      "outputs": [
        {
          "output_type": "execute_result",
          "data": {
            "text/plain": [
              "array([[1., 0., 0., 0.],\n",
              "       [0., 1., 0., 0.],\n",
              "       [0., 0., 1., 0.],\n",
              "       [0., 0., 0., 1.]])"
            ]
          },
          "metadata": {},
          "execution_count": 21
        }
      ]
    },
    {
      "cell_type": "code",
      "source": [
        "#Repeat an Array\n",
        "arr=np.array([[1,2,3]])\n",
        "\n",
        "r1=np.repeat(arr,3,axis=0)\n",
        "\n",
        "print(r1)"
      ],
      "metadata": {
        "colab": {
          "base_uri": "https://localhost:8080/"
        },
        "id": "a1DuQi-ZV-7n",
        "outputId": "890e4237-9be2-4852-d156-76c3f51f0fc4"
      },
      "execution_count": 22,
      "outputs": [
        {
          "output_type": "stream",
          "name": "stdout",
          "text": [
            "[[1 2 3]\n",
            " [1 2 3]\n",
            " [1 2 3]]\n"
          ]
        }
      ]
    },
    {
      "cell_type": "markdown",
      "source": [
        "# First Problem"
      ],
      "metadata": {
        "id": "ESkdkHhrY_b4"
      }
    },
    {
      "cell_type": "markdown",
      "source": [
        "![Screenshot_2.png](data:image/png;base64,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)"
      ],
      "metadata": {
        "id": "6c2YIxhPXOUM"
      }
    },
    {
      "cell_type": "code",
      "source": [
        "output=np.ones((5,5))\n",
        "output[1:4,1:4]=0\n",
        "output[2,2]=9\n",
        "print(output)"
      ],
      "metadata": {
        "colab": {
          "base_uri": "https://localhost:8080/"
        },
        "id": "coLIat0aXi54",
        "outputId": "cc105b75-b3b7-457b-8492-cf7510c58466"
      },
      "execution_count": 23,
      "outputs": [
        {
          "output_type": "stream",
          "name": "stdout",
          "text": [
            "[[1. 1. 1. 1. 1.]\n",
            " [1. 0. 0. 0. 1.]\n",
            " [1. 0. 9. 0. 1.]\n",
            " [1. 0. 0. 0. 1.]\n",
            " [1. 1. 1. 1. 1.]]\n"
          ]
        }
      ]
    },
    {
      "cell_type": "markdown",
      "source": [
        "# Mathematics\n",
        "Reference:[Mathematics](https://docs.scipy.org/doc/numpy/reference/routines.math.html)"
      ],
      "metadata": {
        "id": "IOJLRNy0Efut"
      }
    },
    {
      "cell_type": "code",
      "source": [
        "ara=np.array([1,2,3,4])\n",
        "print(ara)"
      ],
      "metadata": {
        "colab": {
          "base_uri": "https://localhost:8080/"
        },
        "id": "5_eVYUCqEjYY",
        "outputId": "20531741-aa23-4de0-ae32-5fdf67f6a2e7"
      },
      "execution_count": 24,
      "outputs": [
        {
          "output_type": "stream",
          "name": "stdout",
          "text": [
            "[1 2 3 4]\n"
          ]
        }
      ]
    },
    {
      "cell_type": "code",
      "source": [
        "ara+2\n",
        "#ara[2]+2"
      ],
      "metadata": {
        "colab": {
          "base_uri": "https://localhost:8080/"
        },
        "id": "3-jARKVqEmt6",
        "outputId": "5f757429-f045-447b-832d-9a74ff3d9f41"
      },
      "execution_count": 25,
      "outputs": [
        {
          "output_type": "execute_result",
          "data": {
            "text/plain": [
              "array([3, 4, 5, 6])"
            ]
          },
          "metadata": {},
          "execution_count": 25
        }
      ]
    },
    {
      "cell_type": "code",
      "source": [
        "ara-2"
      ],
      "metadata": {
        "colab": {
          "base_uri": "https://localhost:8080/"
        },
        "id": "4-62PnuDEm2r",
        "outputId": "cd098b6a-7557-45f7-f842-0e8a100e4d50"
      },
      "execution_count": 26,
      "outputs": [
        {
          "output_type": "execute_result",
          "data": {
            "text/plain": [
              "array([-1,  0,  1,  2])"
            ]
          },
          "metadata": {},
          "execution_count": 26
        }
      ]
    },
    {
      "cell_type": "code",
      "source": [
        "a*2"
      ],
      "metadata": {
        "colab": {
          "base_uri": "https://localhost:8080/"
        },
        "id": "JpQYw1YBEm_Y",
        "outputId": "6c44d38a-059b-4203-c643-f49a4e04c531"
      },
      "execution_count": 27,
      "outputs": [
        {
          "output_type": "execute_result",
          "data": {
            "text/plain": [
              "array([2.4, 4.4, 6.4, 8.4])"
            ]
          },
          "metadata": {},
          "execution_count": 27
        }
      ]
    },
    {
      "cell_type": "code",
      "source": [
        "a/2"
      ],
      "metadata": {
        "colab": {
          "base_uri": "https://localhost:8080/"
        },
        "id": "zfmPb-YlEnHk",
        "outputId": "3dc4af53-c299-465c-d451-6466bc757497"
      },
      "execution_count": 28,
      "outputs": [
        {
          "output_type": "execute_result",
          "data": {
            "text/plain": [
              "array([0.6, 1.1, 1.6, 2.1])"
            ]
          },
          "metadata": {},
          "execution_count": 28
        }
      ]
    },
    {
      "cell_type": "code",
      "source": [
        "ara1=np.array([[1,2,3],[4,5,6]])\n",
        "print(ara1)"
      ],
      "metadata": {
        "colab": {
          "base_uri": "https://localhost:8080/"
        },
        "id": "Q98z8i0tEnP1",
        "outputId": "d0730b67-a0bf-4fbb-b4e1-af66af001779"
      },
      "execution_count": 29,
      "outputs": [
        {
          "output_type": "stream",
          "name": "stdout",
          "text": [
            "[[1 2 3]\n",
            " [4 5 6]]\n"
          ]
        }
      ]
    },
    {
      "cell_type": "code",
      "source": [
        "#ara1[1,0:2]+2\n",
        "ara1[:,0:2]+2"
      ],
      "metadata": {
        "colab": {
          "base_uri": "https://localhost:8080/"
        },
        "id": "n8rT8rmmEnYH",
        "outputId": "2ab584e3-aecf-493b-a891-190dfc6c8fc9"
      },
      "execution_count": 30,
      "outputs": [
        {
          "output_type": "execute_result",
          "data": {
            "text/plain": [
              "array([[3, 4],\n",
              "       [6, 7]])"
            ]
          },
          "metadata": {},
          "execution_count": 30
        }
      ]
    },
    {
      "cell_type": "code",
      "source": [
        "#sum of two array\n",
        "arab=np.array([4,5,6,7])\n",
        "ara+arab"
      ],
      "metadata": {
        "colab": {
          "base_uri": "https://localhost:8080/"
        },
        "id": "SFTZX6BxEnfw",
        "outputId": "cd767ca3-ecb2-4c6f-c9dd-d3c8d40ec364"
      },
      "execution_count": 31,
      "outputs": [
        {
          "output_type": "execute_result",
          "data": {
            "text/plain": [
              "array([ 5,  7,  9, 11])"
            ]
          },
          "metadata": {},
          "execution_count": 31
        }
      ]
    },
    {
      "cell_type": "code",
      "source": [
        "#power\n",
        "ara **3"
      ],
      "metadata": {
        "colab": {
          "base_uri": "https://localhost:8080/"
        },
        "id": "b9o4l_g4J6IV",
        "outputId": "b0ee559c-f690-45cb-9211-e58e0b986c53"
      },
      "execution_count": 32,
      "outputs": [
        {
          "output_type": "execute_result",
          "data": {
            "text/plain": [
              "array([ 1,  8, 27, 64])"
            ]
          },
          "metadata": {},
          "execution_count": 32
        }
      ]
    },
    {
      "cell_type": "code",
      "source": [
        "#sin,cos,tan of ara\n",
        "np.tan(ara)"
      ],
      "metadata": {
        "colab": {
          "base_uri": "https://localhost:8080/"
        },
        "id": "h6cq-zbdKByg",
        "outputId": "8432d1e0-12dd-4055-a503-50e2e37b4bb0"
      },
      "execution_count": 33,
      "outputs": [
        {
          "output_type": "execute_result",
          "data": {
            "text/plain": [
              "array([ 1.55740772, -2.18503986, -0.14254654,  1.15782128])"
            ]
          },
          "metadata": {},
          "execution_count": 33
        }
      ]
    },
    {
      "cell_type": "markdown",
      "source": [
        "# Linear Algebra\n",
        "Reference:[Linear Algebra](https://numpy.org/doc/stable/reference/routines.linalg.html)"
      ],
      "metadata": {
        "id": "5CqUsF99KpqS"
      }
    },
    {
      "cell_type": "code",
      "source": [
        "#Matrix multiplication\n",
        "mat1=np.ones((2,3))\n",
        "print(mat1)\n",
        "\n",
        "mat2=np.full((3,2),2)\n",
        "print(mat2)\n",
        "np.matmul(mat1,mat2)"
      ],
      "metadata": {
        "colab": {
          "base_uri": "https://localhost:8080/"
        },
        "id": "m-N86TfIKwp6",
        "outputId": "75e4571e-f5e8-4c16-d69e-c1b09383b7e3"
      },
      "execution_count": 34,
      "outputs": [
        {
          "output_type": "stream",
          "name": "stdout",
          "text": [
            "[[1. 1. 1.]\n",
            " [1. 1. 1.]]\n",
            "[[2 2]\n",
            " [2 2]\n",
            " [2 2]]\n"
          ]
        },
        {
          "output_type": "execute_result",
          "data": {
            "text/plain": [
              "array([[6., 6.],\n",
              "       [6., 6.]])"
            ]
          },
          "metadata": {},
          "execution_count": 34
        }
      ]
    },
    {
      "cell_type": "code",
      "source": [
        "#find the determinenet\n",
        "c=np.identity(3)\n",
        "np.linalg.det(c)"
      ],
      "metadata": {
        "colab": {
          "base_uri": "https://localhost:8080/"
        },
        "id": "Ezvmsv9pMEdB",
        "outputId": "b1645b60-0e3f-4656-9d06-5503325f5531"
      },
      "execution_count": 35,
      "outputs": [
        {
          "output_type": "execute_result",
          "data": {
            "text/plain": [
              "1.0"
            ]
          },
          "metadata": {},
          "execution_count": 35
        }
      ]
    },
    {
      "cell_type": "markdown",
      "source": [
        "# Statistics"
      ],
      "metadata": {
        "id": "rWYq-wYxOYoz"
      }
    },
    {
      "cell_type": "code",
      "source": [
        "stat=np.array([[1,2,3],[4,5,6]])\n",
        "stat"
      ],
      "metadata": {
        "colab": {
          "base_uri": "https://localhost:8080/"
        },
        "id": "t8ydE-FEOcpc",
        "outputId": "0e0f8979-e2d6-4ca7-9b0f-f64d67bee7d4"
      },
      "execution_count": 36,
      "outputs": [
        {
          "output_type": "execute_result",
          "data": {
            "text/plain": [
              "array([[1, 2, 3],\n",
              "       [4, 5, 6]])"
            ]
          },
          "metadata": {},
          "execution_count": 36
        }
      ]
    },
    {
      "cell_type": "code",
      "source": [
        "# axis=1 means row wise\n",
        "# axis=0 means col wise \n",
        "np.min(stat,axis=1)"
      ],
      "metadata": {
        "colab": {
          "base_uri": "https://localhost:8080/"
        },
        "id": "jMUg7W9xOylW",
        "outputId": "14d78e8e-644a-4642-b9aa-6f8e4613d228"
      },
      "execution_count": 37,
      "outputs": [
        {
          "output_type": "execute_result",
          "data": {
            "text/plain": [
              "array([1, 4])"
            ]
          },
          "metadata": {},
          "execution_count": 37
        }
      ]
    },
    {
      "cell_type": "code",
      "source": [
        "np.max(stat,axis=1)"
      ],
      "metadata": {
        "colab": {
          "base_uri": "https://localhost:8080/"
        },
        "id": "ic0iBAkWO2NO",
        "outputId": "d8e4697d-4795-45c1-c960-44e05a14593e"
      },
      "execution_count": 38,
      "outputs": [
        {
          "output_type": "execute_result",
          "data": {
            "text/plain": [
              "array([3, 6])"
            ]
          },
          "metadata": {},
          "execution_count": 38
        }
      ]
    },
    {
      "cell_type": "code",
      "source": [
        "np.median(stat,axis=1)"
      ],
      "metadata": {
        "colab": {
          "base_uri": "https://localhost:8080/"
        },
        "id": "A2ru4GYOO4YI",
        "outputId": "c62bdec4-a181-4f5f-eb4a-d5b1ba5a8f8a"
      },
      "execution_count": 39,
      "outputs": [
        {
          "output_type": "execute_result",
          "data": {
            "text/plain": [
              "array([2., 5.])"
            ]
          },
          "metadata": {},
          "execution_count": 39
        }
      ]
    },
    {
      "cell_type": "code",
      "source": [
        "np.sum(stat,axis=1)"
      ],
      "metadata": {
        "colab": {
          "base_uri": "https://localhost:8080/"
        },
        "id": "VFQSAytyPeqX",
        "outputId": "247a9e7b-d507-41e4-924c-93178a578769"
      },
      "execution_count": 40,
      "outputs": [
        {
          "output_type": "execute_result",
          "data": {
            "text/plain": [
              "array([ 6, 15])"
            ]
          },
          "metadata": {},
          "execution_count": 40
        }
      ]
    },
    {
      "cell_type": "markdown",
      "source": [
        "# Reorganizing array"
      ],
      "metadata": {
        "id": "QJKsehfuP9gq"
      }
    },
    {
      "cell_type": "code",
      "source": [
        "before=np.array([[1,2,3,4],[5,6,7,8]])\n",
        "print(before)\n",
        "\n",
        "after=before.reshape((4,2))\n",
        "print(after)"
      ],
      "metadata": {
        "colab": {
          "base_uri": "https://localhost:8080/"
        },
        "id": "DrlVxVnRQCAf",
        "outputId": "4f5b5704-f95d-48ff-d422-d9749fc0bed7"
      },
      "execution_count": 41,
      "outputs": [
        {
          "output_type": "stream",
          "name": "stdout",
          "text": [
            "[[1 2 3 4]\n",
            " [5 6 7 8]]\n",
            "[[1 2]\n",
            " [3 4]\n",
            " [5 6]\n",
            " [7 8]]\n"
          ]
        }
      ]
    },
    {
      "cell_type": "code",
      "source": [
        "#Vertically stacked vectors\n",
        "v1=np.array([1,2,3,4])\n",
        "v2=np.array([5,6,7,8])\n",
        "\n",
        "np.vstack([v1,v2,v1,v2])"
      ],
      "metadata": {
        "colab": {
          "base_uri": "https://localhost:8080/"
        },
        "id": "3SH-5EeURLcn",
        "outputId": "6b03df00-2fd9-4119-d2e8-a1af85f48ae0"
      },
      "execution_count": 42,
      "outputs": [
        {
          "output_type": "execute_result",
          "data": {
            "text/plain": [
              "array([[1, 2, 3, 4],\n",
              "       [5, 6, 7, 8],\n",
              "       [1, 2, 3, 4],\n",
              "       [5, 6, 7, 8]])"
            ]
          },
          "metadata": {},
          "execution_count": 42
        }
      ]
    },
    {
      "cell_type": "code",
      "source": [
        "#horizontal stacked vectors\n",
        "np.hstack([v1,v2,v2])"
      ],
      "metadata": {
        "colab": {
          "base_uri": "https://localhost:8080/"
        },
        "id": "rPggyPpqSCrG",
        "outputId": "29b50419-fec0-4ad4-c1a5-3ae26c7f3748"
      },
      "execution_count": 43,
      "outputs": [
        {
          "output_type": "execute_result",
          "data": {
            "text/plain": [
              "array([1, 2, 3, 4, 5, 6, 7, 8, 5, 6, 7, 8])"
            ]
          },
          "metadata": {},
          "execution_count": 43
        }
      ]
    },
    {
      "cell_type": "markdown",
      "source": [
        "# Miscellaneous\n",
        "Load data from file"
      ],
      "metadata": {
        "id": "DqEDTAQvWr5y"
      }
    },
    {
      "cell_type": "code",
      "source": [
        "from google.colab import drive"
      ],
      "metadata": {
        "id": "WsbNiV93ItL6"
      },
      "execution_count": 45,
      "outputs": []
    },
    {
      "cell_type": "code",
      "source": [
        "drive.mount('/content/gdrive')"
      ],
      "metadata": {
        "colab": {
          "base_uri": "https://localhost:8080/"
        },
        "id": "SjhUVDVHIgo4",
        "outputId": "76c6833c-02e0-4f0c-8a42-374d9597ecf9"
      },
      "execution_count": 46,
      "outputs": [
        {
          "output_type": "stream",
          "name": "stdout",
          "text": [
            "Mounted at /content/gdrive\n"
          ]
        }
      ]
    },
    {
      "cell_type": "code",
      "source": [
        "filedata = np.genfromtxt('/content/gdrive/My Drive/data/data.txt', delimiter=',')\n",
        "filedata"
      ],
      "metadata": {
        "id": "x5A5SRXBW095",
        "colab": {
          "base_uri": "https://localhost:8080/"
        },
        "outputId": "872a13f7-9a75-4527-f745-8cc33373fc5b"
      },
      "execution_count": 49,
      "outputs": [
        {
          "output_type": "execute_result",
          "data": {
            "text/plain": [
              "array([[  1.,  13.,  21.,  11., 196.,  75.,   4.,   3.,  34.,   6.,   7.,\n",
              "          8.,   0.,   1.,   2.,   3.,   4.,   5.],\n",
              "       [  3.,  42.,  12.,  33., 766.,  75.,   4.,  55.,   6.,   4.,   3.,\n",
              "          4.,   5.,   6.,   7.,   0.,  11.,  12.],\n",
              "       [  1.,  22.,  33.,  11., 999.,  11.,   2.,   1.,  78.,   0.,   1.,\n",
              "          2.,   9.,   8.,   7.,   1.,  76.,  88.]])"
            ]
          },
          "metadata": {},
          "execution_count": 49
        }
      ]
    },
    {
      "cell_type": "code",
      "source": [
        "filedata[filedata>50]"
      ],
      "metadata": {
        "colab": {
          "base_uri": "https://localhost:8080/"
        },
        "id": "Q38VfDUQJrxS",
        "outputId": "64ca7943-3292-4726-a950-dbeb639b2b6b"
      },
      "execution_count": 52,
      "outputs": [
        {
          "output_type": "execute_result",
          "data": {
            "text/plain": [
              "array([196.,  75., 766.,  75.,  55., 999.,  78.,  76.,  88.])"
            ]
          },
          "metadata": {},
          "execution_count": 52
        }
      ]
    },
    {
      "cell_type": "code",
      "source": [
        "## You can index with a list in\n",
        "a= np.array([1,2,3,4,5,6,7,8,9])\n",
        "a[[1,2,8]] "
      ],
      "metadata": {
        "colab": {
          "base_uri": "https://localhost:8080/"
        },
        "id": "VZ3rJVouKHgW",
        "outputId": "5f36c91f-2361-4b5d-8250-2866cb813f2a"
      },
      "execution_count": 54,
      "outputs": [
        {
          "output_type": "execute_result",
          "data": {
            "text/plain": [
              "array([2, 3, 9])"
            ]
          },
          "metadata": {},
          "execution_count": 54
        }
      ]
    },
    {
      "cell_type": "code",
      "source": [
        "np.any(filedata >50 ,axis=0)"
      ],
      "metadata": {
        "colab": {
          "base_uri": "https://localhost:8080/"
        },
        "id": "zAFRHNNYKY7E",
        "outputId": "2ae59db0-f338-413b-d9b3-4f24d710d9cd"
      },
      "execution_count": 60,
      "outputs": [
        {
          "output_type": "execute_result",
          "data": {
            "text/plain": [
              "array([False, False, False, False,  True,  True, False,  True,  True,\n",
              "       False, False, False, False, False, False, False,  True,  True])"
            ]
          },
          "metadata": {},
          "execution_count": 60
        }
      ]
    },
    {
      "cell_type": "code",
      "source": [
        "np.all(filedata >50 ,axis=0)"
      ],
      "metadata": {
        "colab": {
          "base_uri": "https://localhost:8080/"
        },
        "id": "hBMWUCmTK67a",
        "outputId": "76630fa8-0b8a-40a9-d5e4-baa76bbd7483"
      },
      "execution_count": 61,
      "outputs": [
        {
          "output_type": "execute_result",
          "data": {
            "text/plain": [
              "array([False, False, False, False,  True, False, False, False, False,\n",
              "       False, False, False, False, False, False, False, False, False])"
            ]
          },
          "metadata": {},
          "execution_count": 61
        }
      ]
    },
    {
      "cell_type": "code",
      "source": [
        "((filedata > 50) & (filedata < 100))"
      ],
      "metadata": {
        "colab": {
          "base_uri": "https://localhost:8080/"
        },
        "id": "MGhjbC9SLHeD",
        "outputId": "eb6fe64e-0d06-4804-85dd-9b087ba37151"
      },
      "execution_count": 66,
      "outputs": [
        {
          "output_type": "execute_result",
          "data": {
            "text/plain": [
              "array([[False, False, False, False, False,  True, False, False, False,\n",
              "        False, False, False, False, False, False, False, False, False],\n",
              "       [False, False, False, False, False,  True, False,  True, False,\n",
              "        False, False, False, False, False, False, False, False, False],\n",
              "       [False, False, False, False, False, False, False, False,  True,\n",
              "        False, False, False, False, False, False, False,  True,  True]])"
            ]
          },
          "metadata": {},
          "execution_count": 66
        }
      ]
    },
    {
      "cell_type": "code",
      "source": [
        "(~((filedata > 50) & (filedata < 100)))"
      ],
      "metadata": {
        "id": "XCZL3Fjuy2Ao",
        "colab": {
          "base_uri": "https://localhost:8080/"
        },
        "outputId": "296c1cd5-b641-4383-b4b5-07544ef0cf14"
      },
      "execution_count": 50,
      "outputs": [
        {
          "output_type": "execute_result",
          "data": {
            "text/plain": [
              "array([[ True,  True,  True,  True,  True, False,  True,  True,  True,\n",
              "         True,  True,  True,  True,  True,  True,  True,  True,  True],\n",
              "       [ True,  True,  True,  True,  True, False,  True, False,  True,\n",
              "         True,  True,  True,  True,  True,  True,  True,  True,  True],\n",
              "       [ True,  True,  True,  True,  True,  True,  True,  True, False,\n",
              "         True,  True,  True,  True,  True,  True,  True, False, False]])"
            ]
          },
          "metadata": {},
          "execution_count": 50
        }
      ]
    }
  ],
  "metadata": {
    "colab": {
      "collapsed_sections": [],
      "provenance": [],
      "include_colab_link": true
    },
    "kernelspec": {
      "display_name": "Python 3",
      "name": "python3"
    }
  },
  "nbformat": 4,
  "nbformat_minor": 0
}